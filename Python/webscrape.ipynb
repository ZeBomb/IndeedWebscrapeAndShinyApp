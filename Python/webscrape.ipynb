{
 "cells": [
  {
   "cell_type": "code",
   "execution_count": 3,
   "metadata": {},
   "outputs": [],
   "source": [
    "# Write you web scraping code here.\n",
    "import requests\n",
    "from bs4 import BeautifulSoup as bs\n",
    "import pandas as pd\n"
   ]
  },
  {
   "cell_type": "code",
   "execution_count": 140,
   "metadata": {},
   "outputs": [],
   "source": [
    "def getJobs(num):\n",
    "    url = f'https://www.indeed.com/jobs?q=data%20scientist&l=Chandler,%20AZ&vjk=6b2f49b815c149e2&start={num}'\n",
    "    page = requests.get(url)\n",
    "    soup = bs(page.content, 'html.parser')\n",
    "    divs = soup.find_all('div',  class_=\"job_seen_beacon\")\n",
    "    for item in divs:\n",
    "        # Title\n",
    "        title = item.find('h2', class_= \"jobTitle\")\n",
    "        #for item in title:\n",
    "        title2 = item.find('span', title_= '').text.strip()\n",
    "        if title2 == \"new\":\n",
    "            title2 = item.find_all('span')[1].text\n",
    "            #print(item.find_all('span')[1].text)\n",
    "        #print(title2)\n",
    "\n",
    "        # Company\n",
    "        company1 = item.find('div', class_=\"heading6 company_location tapItem-gutter\")\n",
    "        for node in company1:\n",
    "            company2 = node.find('span').text\n",
    "            break\n",
    "        #print(company2)\n",
    "\n",
    "        #rating\n",
    "        try: \n",
    "            rating2 = item.find('span', class_= 'ratingNumber').text.strip()\n",
    "        except:\n",
    "            rating2 = \"\"\n",
    "\n",
    "        #print(rating2)\n",
    "\n",
    "        #Location\n",
    "        location = item.find('div', class_= \"companyLocation\").text.strip()\n",
    "        location2 = location.split(',',1)[0]\n",
    "        #print(location2)\n",
    "\n",
    "        #Short Description\n",
    "        descript2 = item.find('div', class_= \"job-snippet\").text.strip()\n",
    "\n",
    "        #print(descript2)\n",
    "        job = {\n",
    "            'title': title2,\n",
    "            'company': company2,\n",
    "            'rating': rating2,\n",
    "            'location': location2,\n",
    "            'descript': descript2\n",
    "        }\n",
    "        joblist.append(job)"
   ]
  },
  {
   "cell_type": "code",
   "execution_count": 144,
   "metadata": {},
   "outputs": [],
   "source": [
    "joblist = []\n",
    "for i in range(0,50,10):\n",
    "    getJobs(i)\n"
   ]
  },
  {
   "cell_type": "code",
   "execution_count": 146,
   "metadata": {},
   "outputs": [
    {
     "name": "stdout",
     "output_type": "stream",
     "text": [
      "                                                title  \\\n",
      "0                                      Data Scientist   \n",
      "1                               Senior Data Scientist   \n",
      "2               QAS3 - Knowledge Graph Data Scientist   \n",
      "3                                      Data Scientist   \n",
      "4   Tableau Engineer/Data Scientist- Next Generati...   \n",
      "..                                                ...   \n",
      "70  Head of Sales & Business Development - AI, Dat...   \n",
      "71  Head of AI, Machine Learning, Data Science pro...   \n",
      "72                                Lead Data Scientist   \n",
      "73                       Senior Business Data Analyst   \n",
      "74                Data & Analytics Associate Director   \n",
      "\n",
      "                             company rating    location  \\\n",
      "0   DriveTime Automotive Group, Inc.    3.3       Tempe   \n",
      "1                           RunBuggy            Phoenix   \n",
      "2                        Wells Fargo    3.7       Tempe   \n",
      "3                             Cyient    3.5     Phoenix   \n",
      "4                   Northrop Grumman    4.0    Chandler   \n",
      "..                               ...    ...         ...   \n",
      "70                            Xen.ai            Phoenix   \n",
      "71                            Xen.ai            Phoenix   \n",
      "72   Discount Tire Corporate Careers    3.9  Scottsdale   \n",
      "73                           BioCare              Tempe   \n",
      "74                 Skin Health Group            Phoenix   \n",
      "\n",
      "                                             descript  \n",
      "0   Partner with business customers to manage data...  \n",
      "1   Build data ingestion pipelines and transform d...  \n",
      "2   In particular the knowledge graph data scienti...  \n",
      "3   Prior experience in R or Python and data analy...  \n",
      "4   The ideal candidate shall evaluate, design, de...  \n",
      "..                                                ...  \n",
      "70  Xen.AI is looking for Head of Sales & Business...  \n",
      "71  10+ years of proven hands-on, technology leade...  \n",
      "72  Consistently collaborates with fellow data sci...  \n",
      "73  Advises on latest tools, frameworks and mechan...  \n",
      "74  7+ years experience in CPG (Consumer Products ...  \n",
      "\n",
      "[75 rows x 5 columns]\n"
     ]
    }
   ],
   "source": [
    "df = pd.DataFrame(joblist)\n",
    "print(df)\n",
    "df.to_csv('jobs.csv', index = False)\n"
   ]
  }
 ],
 "metadata": {
  "kernelspec": {
   "display_name": "Python 3",
   "language": "python",
   "name": "python3"
  },
  "language_info": {
   "codemirror_mode": {
    "name": "ipython",
    "version": 3
   },
   "file_extension": ".py",
   "mimetype": "text/x-python",
   "name": "python",
   "nbconvert_exporter": "python",
   "pygments_lexer": "ipython3",
   "version": "3.8.8"
  }
 },
 "nbformat": 4,
 "nbformat_minor": 2
}
